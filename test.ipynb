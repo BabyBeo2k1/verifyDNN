{
 "cells": [
  {
   "cell_type": "code",
   "execution_count": 10,
   "metadata": {},
   "outputs": [
    {
     "name": "stdout",
     "output_type": "stream",
     "text": [
      "[-inf  inf]\n",
      "[-inf   0.]\n",
      "[-inf  inf]\n",
      "[-inf  inf]\n",
      "[-inf  inf]\n"
     ]
    }
   ],
   "source": [
    "import numpy as np\n",
    "bounds=np.ones((5,2))*np.array([[-np.inf,np.inf]])\n",
    "bounds[1,1]=0\n",
    "for i,item in enumerate(bounds):\n",
    "    if (item==[-np.inf,np.inf]).any():\n",
    "        print(item)"
   ]
  },
  {
   "cell_type": "markdown",
   "metadata": {},
   "source": [
    "### DeepPoly\n"
   ]
  },
  {
   "cell_type": "code",
   "execution_count": 3,
   "metadata": {},
   "outputs": [],
   "source": [
    "from DeepPoly import DeepPoly \n",
    "solver=DeepPoly(12)\n",
    "solver.addBoundInput(0,-1,1)\n",
    "solver.addBoundInput(1,-1,1)\n",
    "solver.addWeight(0,1.0,2)\n",
    "solver.addWeight(1,1.0,2)\n",
    "solver.addWeight(0,1.0,3)\n",
    "solver.addWeight(1,-1.0,3)\n",
    "solver.addWeight(4,1.0,6)\n",
    "solver.addWeight(4,1.0,7)\n",
    "solver.addWeight(5,1.0,6)\n",
    "solver.addWeight(5,-1.0,7)\n",
    "solver.addWeight(8,-1.0,10)\n",
    "solver.addWeight(8,0.0,11)\n",
    "solver.addWeight(9,1.0,10)\n",
    "solver.addWeight(9,1.0,11)\n",
    "solver.addWeight(12,-0.5,6)\n",
    "solver.addReLU(2,4)\n",
    "solver.addReLU(3,5)\n",
    "solver.addReLU(6,8)\n",
    "solver.addReLU(7,9)\n",
    "solver.addWeight(12,3,10)\n",
    "solver.addOutputProperty(11,1)\n",
    "solver.addOutputProperty(10,-1)"
   ]
  },
  {
   "cell_type": "code",
   "execution_count": 4,
   "metadata": {},
   "outputs": [
    {
     "name": "stdout",
     "output_type": "stream",
     "text": [
      "check 0\n",
      "check 1\n",
      "check 2\n",
      "[1. 1. 0. 0. 0. 0. 0. 0. 0. 0. 0. 0. 0.]\n",
      "[1. 1. 0. 0. 0. 0. 0. 0. 0. 0. 0. 0. 0.]\n",
      "check 3\n",
      "[ 1. -1.  0.  0.  0.  0.  0.  0.  0.  0.  0.  0.  0.]\n",
      "[ 1. -1.  0.  0.  0.  0.  0.  0.  0.  0.  0.  0.  0.]\n",
      "check 4\n",
      "[0.5 0.5 0.  0.  0.  0.  0.  0.  0.  0.  0.  0.  1. ]\n",
      "[0. 0. 0. 0. 0. 0. 0. 0. 0. 0. 0. 0. 0.]\n",
      "check 5\n",
      "[ 0.5 -0.5  0.   0.   0.   0.   0.   0.   0.   0.   0.   0.   1. ]\n",
      "[ 0. -0.  0.  0.  0.  0.  0.  0.  0.  0.  0.  0.  0.]\n",
      "check 6\n",
      "[1.  0.  0.  0.  0.  0.  0.  0.  0.  0.  0.  0.  1.5]\n",
      "[ 0.   0.   0.   0.   0.   0.   0.   0.   0.   0.   0.   0.  -0.5]\n",
      "check 7\n",
      "[0.5 0.5 0.  0.  0.  0.  0.  0.  0.  0.  0.  0.  1. ]\n",
      "[-0.5  0.5  0.   0.   0.   0.   0.   0.   0.   0.   0.   0.  -1. ]\n",
      "check 8\n",
      "[0.83333333 0.         0.         0.         0.         0.\n",
      " 0.         0.         0.         0.         0.         0.\n",
      " 0.41666667]\n",
      "[0. 0. 0. 0. 0. 0. 0. 0. 0. 0. 0. 0. 0.]\n",
      "check 9\n",
      "[0.25 0.25 0.   0.   0.   0.   0.   0.   0.   0.   0.   0.   1.  ]\n",
      "[0. 0. 0. 0. 0. 0. 0. 0. 0. 0. 0. 0. 0.]\n",
      "check 10\n",
      "[0.25 0.25 0.   0.   0.   0.   0.   0.   0.   0.   0.   0.   4.  ]\n",
      "[-0.83333333  0.          0.          0.          0.          0.\n",
      "  0.          0.          0.          0.          0.          0.\n",
      "  2.58333333]\n",
      "check 11\n",
      "[0.25 0.25 0.   0.   0.   0.   0.   0.   0.   0.   0.   0.   1.  ]\n",
      "[0. 0. 0. 0. 0. 0. 0. 0. 0. 0. 0. 0. 0.]\n",
      "[[ 0.          0.          1.          1.          0.5         0.5\n",
      "   1.          0.5         0.83333333  0.25        0.25        0.25      ]\n",
      " [ 0.          0.          1.         -1.          0.5        -0.5\n",
      "   0.          0.5         0.          0.25        0.25        0.25      ]\n",
      " [ 0.          0.          0.          0.          0.          0.\n",
      "   0.          0.          0.          0.          0.          0.        ]\n",
      " [ 0.          0.          0.          0.          0.          0.\n",
      "   0.          0.          0.          0.          0.          0.        ]\n",
      " [ 0.          0.          0.          0.          0.          0.\n",
      "   0.          0.          0.          0.          0.          0.        ]\n",
      " [ 0.          0.          0.          0.          0.          0.\n",
      "   0.          0.          0.          0.          0.          0.        ]\n",
      " [ 0.          0.          0.          0.          0.          0.\n",
      "   0.          0.          0.          0.          0.          0.        ]\n",
      " [ 0.          0.          0.          0.          0.          0.\n",
      "   0.          0.          0.          0.          0.          0.        ]\n",
      " [ 0.          0.          0.          0.          0.          0.\n",
      "   0.          0.          0.          0.          0.          0.        ]\n",
      " [ 0.          0.          0.          0.          0.          0.\n",
      "   0.          0.          0.          0.          0.          0.        ]\n",
      " [ 0.          0.          0.          0.          0.          0.\n",
      "   0.          0.          0.          0.          0.          0.        ]\n",
      " [ 0.          0.          0.          0.          0.          0.\n",
      "   0.          0.          0.          0.          0.          0.        ]\n",
      " [ 1.          1.          0.          0.          1.          1.\n",
      "   1.5         1.          0.41666667  1.          4.          1.        ]]\n",
      "[[-1.    1.  ]\n",
      " [-1.    1.  ]\n",
      " [-2.    2.  ]\n",
      " [-2.    2.  ]\n",
      " [ 0.    2.  ]\n",
      " [ 0.    2.  ]\n",
      " [-0.5   2.5 ]\n",
      " [-2.    2.  ]\n",
      " [ 0.    2.5 ]\n",
      " [ 0.    2.  ]\n",
      " [ 1.75  4.5 ]\n",
      " [ 0.    1.5 ]]\n",
      "[ 0.  0.  0.  0.  0.  0.  0.  0.  0.  0. -1.  1.  0.]\n",
      "[ 0.83333333  0.          0.          0.          0.          0.\n",
      "  0.          0.          0.          0.          0.          1.\n",
      " -2.58333333]\n",
      "[ 1.08333333  0.25        0.          0.          0.          0.\n",
      "  0.          0.          0.          0.          0.          0.\n",
      " -1.58333333]\n",
      "-0.25\n",
      "SAT\n"
     ]
    }
   ],
   "source": [
    "solver.solve(0)"
   ]
  },
  {
   "cell_type": "code",
   "execution_count": 5,
   "metadata": {},
   "outputs": [],
   "source": [
    "from DeepPoly import DeepPoly\n",
    "solver=DeepPoly(7)\n",
    "solver.addWeight(0,1,2)\n",
    "solver.addWeight(0,1,3)\n",
    "solver.addWeight(1,1,2)\n",
    "solver.addWeight(1,-1,2)\n",
    "solver.addWeight(4,1,6)\n",
    "solver.addWeight(5,-1,6)\n",
    "solver.addReLU(2,4)\n",
    "solver.addReLU(3,5)\n",
    "solver.addBoundInput(0,-1,1)\n",
    "solver.addBoundInput(1,-1,1)\n",
    "solver.addOutputProperty(6,-1)\n",
    "solver.addOutputProperty(7,-0.5)"
   ]
  },
  {
   "cell_type": "code",
   "execution_count": 6,
   "metadata": {},
   "outputs": [
    {
     "name": "stdout",
     "output_type": "stream",
     "text": [
      "check 0\n",
      "check 1\n",
      "check 2\n",
      "check 3\n",
      "check 4\n",
      "check 5\n",
      "check 6\n",
      "[[ 0.   0.   1.   1.   0.   0.   0. ]\n",
      " [ 0.   0.  -1.   0.   0.   0.   0. ]\n",
      " [ 0.   0.   0.   0.   0.5  0.   0. ]\n",
      " [ 0.   0.   0.   0.   0.   0.5  0. ]\n",
      " [ 0.   0.   0.   0.   0.   0.   1. ]\n",
      " [ 0.   0.   0.   0.   0.   0.  -1. ]\n",
      " [ 0.   0.   0.   0.   0.   0.   0. ]\n",
      " [-1.  -1.   0.   0.   1.   0.5  0. ]]\n",
      "[[-1.  1.]\n",
      " [-1.  1.]\n",
      " [-2.  2.]\n",
      " [-1.  1.]\n",
      " [ 0.  2.]\n",
      " [ 0.  1.]\n",
      " [-1.  2.]]\n",
      "[ 0.   0.   0.   0.   0.   0.  -1.  -0.5]\n",
      "[ 0.   0.   0.   0.  -1.   1.   0.  -0.5]\n",
      "0.5\n",
      "[ 0.   0.   0.   0.  -1.   1.   0.  -0.5]\n",
      "[ 0.   0.   0.   0.   0.   1.   0.  -0.5]\n",
      "[0.  0.  0.  0.5 0.  0.  0.  0. ]\n",
      "0.5\n",
      "[0.  0.  0.  0.5 0.  0.  0.  0. ]\n",
      "[0.5 0.  0.  0.  0.  0.  0.  0. ]\n",
      "0.5\n",
      "not really unsat but you should change algorithm :>\n",
      "0.5\n"
     ]
    }
   ],
   "source": [
    "solver.solve(0)"
   ]
  },
  {
   "cell_type": "code",
   "execution_count": null,
   "metadata": {},
   "outputs": [],
   "source": [
    "sum=0\n"
   ]
  }
 ],
 "metadata": {
  "kernelspec": {
   "display_name": "gmu",
   "language": "python",
   "name": "python3"
  },
  "language_info": {
   "codemirror_mode": {
    "name": "ipython",
    "version": 3
   },
   "file_extension": ".py",
   "mimetype": "text/x-python",
   "name": "python",
   "nbconvert_exporter": "python",
   "pygments_lexer": "ipython3",
   "version": "3.10.12"
  }
 },
 "nbformat": 4,
 "nbformat_minor": 2
}
